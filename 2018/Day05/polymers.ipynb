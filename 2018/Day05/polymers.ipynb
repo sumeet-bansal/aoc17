{
 "cells": [
  {
   "cell_type": "code",
   "execution_count": 1,
   "metadata": {},
   "outputs": [],
   "source": [
    "from collections import deque\n",
    "import string\n",
    "\n",
    "data = list(open('input.txt').read().strip())"
   ]
  },
  {
   "cell_type": "code",
   "execution_count": 2,
   "metadata": {},
   "outputs": [],
   "source": [
    "reactants = {}\n",
    "for l, u in zip(string.ascii_lowercase, string.ascii_uppercase):\n",
    "    reactants[l] = u\n",
    "    reactants[u] = l"
   ]
  },
  {
   "cell_type": "code",
   "execution_count": 3,
   "metadata": {},
   "outputs": [
    {
     "data": {
      "text/plain": [
       "10878"
      ]
     },
     "execution_count": 3,
     "metadata": {},
     "output_type": "execute_result"
    }
   ],
   "source": [
    "polymer = deque()\n",
    "for d in data:\n",
    "    if len(polymer) and polymer[-1] == reactants[d]:\n",
    "        polymer.pop()\n",
    "    else:\n",
    "        polymer.append(d)\n",
    "\n",
    "len(polymer)"
   ]
  },
  {
   "cell_type": "code",
   "execution_count": 4,
   "metadata": {},
   "outputs": [
    {
     "data": {
      "text/plain": [
       "6874"
      ]
     },
     "execution_count": 4,
     "metadata": {},
     "output_type": "execute_result"
    }
   ],
   "source": [
    "shortest_polymer = len(data)\n",
    "for unit in string.ascii_lowercase:\n",
    "    rem = [d for d in data if d != unit.lower() and d != unit.upper()]\n",
    "    polymer = deque()\n",
    "    for d in rem:\n",
    "        if len(polymer) and polymer[-1] == reactants[d]:\n",
    "            polymer.pop()\n",
    "        else:\n",
    "            polymer.append(d)\n",
    "    shortest_polymer = min(shortest_polymer, len(polymer))\n",
    "\n",
    "shortest_polymer"
   ]
  }
 ],
 "metadata": {
  "kernelspec": {
   "display_name": "Python 3",
   "language": "python",
   "name": "python3"
  },
  "language_info": {
   "codemirror_mode": {
    "name": "ipython",
    "version": 3
   },
   "file_extension": ".py",
   "mimetype": "text/x-python",
   "name": "python",
   "nbconvert_exporter": "python",
   "pygments_lexer": "ipython3",
   "version": "3.6.2"
  }
 },
 "nbformat": 4,
 "nbformat_minor": 2
}
