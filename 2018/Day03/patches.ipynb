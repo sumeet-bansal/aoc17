{
 "cells": [
  {
   "cell_type": "code",
   "execution_count": 1,
   "metadata": {},
   "outputs": [],
   "source": [
    "data = open('input.txt').read().strip().split('\\n')"
   ]
  },
  {
   "cell_type": "code",
   "execution_count": 2,
   "metadata": {},
   "outputs": [],
   "source": [
    "def parse(datum):\n",
    "    claim = int(datum.split()[0].split('#')[1])\n",
    "    datum = datum[datum.index('@')+2:].split()\n",
    "    datum[0] = list(map(int, datum[0][:-1].split(',')))\n",
    "    datum[1] = list(map(int, datum[1].split('x')))\n",
    "    [[x, y], [w, h]] = datum\n",
    "    return (claim, (x, y), (w, h))    \n",
    "\n",
    "matrix = [[0 for _ in range(1000)] for _ in range(1000)]\n",
    "for d in data:\n",
    "    (claim, (x, y), (w, h)) = parse(d)\n",
    "    for dx in range(x,x+w):\n",
    "        matrix[dx][y:y+h] = list(map(lambda dy : dy + 1, matrix[dx][y:y+h]))"
   ]
  },
  {
   "cell_type": "code",
   "execution_count": 3,
   "metadata": {},
   "outputs": [
    {
     "data": {
      "text/plain": [
       "111935"
      ]
     },
     "execution_count": 3,
     "metadata": {},
     "output_type": "execute_result"
    }
   ],
   "source": [
    "sum((map(lambda x : sum(map(lambda y : y > 1, x)), matrix)))"
   ]
  },
  {
   "cell_type": "code",
   "execution_count": 4,
   "metadata": {},
   "outputs": [
    {
     "data": {
      "text/plain": [
       "650"
      ]
     },
     "execution_count": 4,
     "metadata": {},
     "output_type": "execute_result"
    }
   ],
   "source": [
    "intact = -1\n",
    "for d in data:\n",
    "    (claim, (x, y), (w, h)) = parse(d)\n",
    "    if max([max(matrix[dx][y:y+h]) for dx in range(x,x+w)]) == 1:\n",
    "        intact = claim\n",
    "        break\n",
    "intact"
   ]
  }
 ],
 "metadata": {
  "kernelspec": {
   "display_name": "Python 3",
   "language": "python",
   "name": "python3"
  },
  "language_info": {
   "codemirror_mode": {
    "name": "ipython",
    "version": 3
   },
   "file_extension": ".py",
   "mimetype": "text/x-python",
   "name": "python",
   "nbconvert_exporter": "python",
   "pygments_lexer": "ipython3",
   "version": "3.6.2"
  }
 },
 "nbformat": 4,
 "nbformat_minor": 2
}
