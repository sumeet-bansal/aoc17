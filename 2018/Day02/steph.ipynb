{
 "cells": [
  {
   "cell_type": "code",
   "execution_count": 1,
   "metadata": {},
   "outputs": [],
   "source": [
    "import collections\n",
    "import itertools\n",
    "\n",
    "data = open('input.txt').read().strip().split('\\n')"
   ]
  },
  {
   "cell_type": "code",
   "execution_count": 2,
   "metadata": {},
   "outputs": [
    {
     "data": {
      "text/plain": [
       "7163"
      ]
     },
     "execution_count": 2,
     "metadata": {},
     "output_type": "execute_result"
    }
   ],
   "source": [
    "twos, threes = 0, 0\n",
    "for d in data:\n",
    "    letter_counts = dict(collections.Counter(d)).values()\n",
    "    if 2 in letter_counts:\n",
    "        twos += 1\n",
    "    if 3 in letter_counts:\n",
    "        threes += 1\n",
    "twos * threes"
   ]
  },
  {
   "cell_type": "code",
   "execution_count": 3,
   "metadata": {},
   "outputs": [
    {
     "data": {
      "text/plain": [
       "'ighfbyijnoumxjlxevacpwqtr'"
      ]
     },
     "execution_count": 3,
     "metadata": {},
     "output_type": "execute_result"
    }
   ],
   "source": [
    "boxIDs = None\n",
    "for (x, y) in itertools.combinations(data, 2):\n",
    "    if sum([i != j for i, j in zip(x, y)]) == 1:\n",
    "        boxIDs = (x, y)\n",
    "        break\n",
    "''.join([i for i, j in zip(*boxIDs) if i == j])"
   ]
  }
 ],
 "metadata": {
  "kernelspec": {
   "display_name": "Python 3",
   "language": "python",
   "name": "python3"
  },
  "language_info": {
   "codemirror_mode": {
    "name": "ipython",
    "version": 3
   },
   "file_extension": ".py",
   "mimetype": "text/x-python",
   "name": "python",
   "nbconvert_exporter": "python",
   "pygments_lexer": "ipython3",
   "version": "3.6.2"
  }
 },
 "nbformat": 4,
 "nbformat_minor": 2
}
