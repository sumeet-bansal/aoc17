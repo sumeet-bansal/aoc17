{
 "cells": [
  {
   "cell_type": "code",
   "execution_count": 1,
   "metadata": {},
   "outputs": [],
   "source": [
    "from collections import Counter, defaultdict\n",
    "\n",
    "data = open('input.txt').read().strip().split('\\n')"
   ]
  },
  {
   "cell_type": "code",
   "execution_count": 2,
   "metadata": {},
   "outputs": [],
   "source": [
    "data = list(map(lambda d : d.split('] '), data))\n",
    "data = sorted(list(map(lambda d : [d[0][1:], d[1]], data)))"
   ]
  },
  {
   "cell_type": "code",
   "execution_count": 3,
   "metadata": {},
   "outputs": [],
   "source": [
    "guard_mins = defaultdict(Counter)\n",
    "guard_sums = Counter()\n",
    "guard, start, end = None, -1, -1\n",
    "for d in data:\n",
    "    if '#' in d[1]:\n",
    "        guard = int(d[1].split()[1].split('#')[1])\n",
    "    else:\n",
    "        if d[1] == 'falls asleep':\n",
    "            start = int(d[0].split()[1].split(':')[1])\n",
    "        else:\n",
    "            end = int(d[0].split()[1].split(':')[1])\n",
    "            guard_mins[guard].update(list(range(start, end)))\n",
    "            guard_sums.update([guard] * (end - start))"
   ]
  },
  {
   "cell_type": "code",
   "execution_count": 4,
   "metadata": {},
   "outputs": [
    {
     "data": {
      "text/plain": [
       "146622"
      ]
     },
     "execution_count": 4,
     "metadata": {},
     "output_type": "execute_result"
    }
   ],
   "source": [
    "guard = guard_sums.most_common(1)[0][0]\n",
    "guard * guard_mins[guard].most_common(1)[0][0]"
   ]
  },
  {
   "cell_type": "code",
   "execution_count": 5,
   "metadata": {},
   "outputs": [
    {
     "data": {
      "text/plain": [
       "31848"
      ]
     },
     "execution_count": 5,
     "metadata": {},
     "output_type": "execute_result"
    }
   ],
   "source": [
    "common_mins = [(g, guard_mins[g].most_common(1)[0]) for g in guard_mins]\n",
    "worst_guard = sorted(common_mins, key = lambda x : x[1][1], reverse=True)[0]\n",
    "worst_guard[0] * worst_guard[1][0]"
   ]
  }
 ],
 "metadata": {
  "kernelspec": {
   "display_name": "Python 3",
   "language": "python",
   "name": "python3"
  },
  "language_info": {
   "codemirror_mode": {
    "name": "ipython",
    "version": 3
   },
   "file_extension": ".py",
   "mimetype": "text/x-python",
   "name": "python",
   "nbconvert_exporter": "python",
   "pygments_lexer": "ipython3",
   "version": "3.6.2"
  }
 },
 "nbformat": 4,
 "nbformat_minor": 2
}
